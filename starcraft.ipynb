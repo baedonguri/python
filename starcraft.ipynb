{
 "cells": [
  {
   "cell_type": "code",
   "execution_count": 40,
   "metadata": {
    "ExecuteTime": {
     "end_time": "2020-12-17T05:27:44.948648Z",
     "start_time": "2020-12-17T05:27:44.930358Z"
    }
   },
   "outputs": [
    {
     "name": "stdout",
     "output_type": "stream",
     "text": [
      "발키리 유닛이 생성되었습니다.\n",
      "발키리 : 3시 방향으로 날아갑니다. [속도 5]\n",
      "벌쳐 유닛이 생성되었습니다.\n",
      "배틀크루저 유닛이 생성되었습니다.\n",
      "벌쳐 : 11시 방향으로 이동합니다. [속도 10]\n",
      "배틀크루저 : 8시 방향으로 날아갑니다. [속도 3]\n"
     ]
    }
   ],
   "source": [
    "from random import *\n",
    "\n",
    "class Unit:\n",
    "    def __init__(self, name, hp, speed):\n",
    "        self.name = name\n",
    "        self.hp = hp\n",
    "        self.speed = speed\n",
    "        print('{} 유닛이 생성되었습니다.'.format(self.name))\n",
    "        \n",
    "    def move(self, location):\n",
    "        print('{} : {} 방향으로 이동합니다. [속도 {}]'.format(self.name, location, self.speed))\n",
    "\n",
    "    def damaged(self, damage):\n",
    "        print('{} : {} 데미지를 입었습니다.'.format(self.name, damage))\n",
    "        self.hp -= damage\n",
    "        print('{} : 현재 체력은 {} 입니다.'.format(self.name, self.hp))\n",
    "        if self.hp <= 0:\n",
    "            print('{0} : 파괴되었습니다.'.format(self.name))\n",
    "\n",
    "class AttackUnit(Unit):\n",
    "    def __init__(self, name, hp, speed, damage):\n",
    "        Unit.__init__(self, name, hp, speed)\n",
    "        self.damage = damage\n",
    "        \n",
    "    def attack(self, location):\n",
    "        print('{0} : {1} 방향으로 적군을 공격합니다. [공격력 {2}]\\\n",
    "        '.format(self.name, location, self.damage))\n",
    "        \n",
    "    def damaged(self, damage):\n",
    "        print('{} : {} 데미지를 입었습니다.'.format(self.name, damage))\n",
    "        self.hp -= damage\n",
    "        print('{} : 현재 체력은 {} 입니다.'.format(self.name, self.hp))\n",
    "        if self.hp <= 0:\n",
    "            print('{0} : 파괴되었습니다.'.format(self.name))\n",
    "\n",
    "class Flyable:\n",
    "    def __init__(self, flying_speed):\n",
    "        self.flying_speed = flying_speed\n",
    "            \n",
    "    def fly(self, name, location):\n",
    "        print(\"{} : {} 방향으로 날아갑니다. [속도 {}]\".format(name, location, self.flying_speed))\n",
    "\n",
    "    \n",
    "class FlyableAttackUnit(AttackUnit, Flyable):\n",
    "    def __init__(self, name, hp, damage,flying_speed): #지상 스피드는 0\n",
    "        AttackUnit.__init__(self, name, hp, 0,damage)\n",
    "        Flyable.__init__(self, flying_speed)\n",
    "    \n",
    "    def move(self, location):\n",
    "        self.fly(self.name,location) # 메소드 오버라이딩 / move함수를 반복\n",
    "\n",
    "# firebat1 = AttackUnit('파이어뱃', 50, 16)\n",
    "# firebat1.attack('5시')    \n",
    "\n",
    "# firebat1.damaged(25)\n",
    "# firebat1.damaged(25\n",
    "\n",
    "\n",
    "valkyrie = FlyableAttackUnit('발키리', 200, 6, 5)\n",
    "valkyrie.fly(valkyrie.name, '3시')\n",
    "\n",
    "vulture = AttackUnit('벌쳐', 80, 10, 20)\n",
    "battlecruiser = FlyableAttackUnit('배틀크루저', 500, 25, 3)\n",
    "\n",
    "vulture.move('11시')\n",
    "# battlecruiser.fly(battlecruiser.name,'9시')\n",
    "battlecruiser.move('8시')"
   ]
  },
  {
   "cell_type": "markdown",
   "metadata": {},
   "source": [
    "## 스타크래프트 전반전 [마린, 탱크, 레이스 클래스 생성]"
   ]
  },
  {
   "cell_type": "code",
   "execution_count": 41,
   "metadata": {
    "ExecuteTime": {
     "end_time": "2020-12-17T05:27:47.048712Z",
     "start_time": "2020-12-17T05:27:47.035080Z"
    }
   },
   "outputs": [],
   "source": [
    "class Marine(AttackUnit):\n",
    "    def __init__(self):\n",
    "        AttackUnit.__init__(self, '마린', 40,1,5)\n",
    "        \n",
    "    def stimpack(self):\n",
    "        if self.hp > 10:\n",
    "            self.hp -= 10\n",
    "            print('{} : 스팀팩을 사용합니다 (HP 10 감소)'.format(self.name))\n",
    "        else:\n",
    "            print('{} : 체력이 부족하여 스팀팩을 사용하지 않았습니다.'.format(self.name))\n",
    "        \n",
    "class Tank(AttackUnit):\n",
    "    seize_developed = False\n",
    "    \n",
    "    def __init__(self):\n",
    "        AttackUnit.__init__(self, '탱크', 150, 1, 35)\n",
    "        self.seize_mode = False\n",
    "    def set_seize_mode(self):\n",
    "        if Tank.seize_developed == False:\n",
    "            return\n",
    "        \n",
    "        if self.seize_mode == False:\n",
    "            print(\"{} : 시즈모드로 전환합니다.\".format(self.name))\n",
    "            self.damage *= 2\n",
    "            self.seize_mode = True\n",
    "        \n",
    "        else:\n",
    "            print('{} : 시즈모드를 해제합니다.'.format(self.name))\n",
    "            self.damage /= 2\n",
    "            self.seize_mode = False\n",
    "            \n",
    "            \n",
    "class Wraith(FlyableAttackUnit):\n",
    "    def __init__(self):\n",
    "        FlyableAttackUnit.__init__(self, '레이스', 80, 20, 5)\n",
    "        self.clocked = False\n",
    "    \n",
    "    def clocking(self):\n",
    "        if self.clocked == True:\n",
    "            print('{} : 클로킹 모드 해제합니다'.format(self.name))\n",
    "            self.clocked = False\n",
    "            \n",
    "        else:\n",
    "            print('{} : 클로킹 모드로 전환합니다.'.format(self.name))\n",
    "            self.clocked = True\n",
    "            \n"
   ]
  },
  {
   "cell_type": "markdown",
   "metadata": {},
   "source": [
    "## 스타크래프트 후반전 "
   ]
  },
  {
   "cell_type": "code",
   "execution_count": 16,
   "metadata": {
    "ExecuteTime": {
     "end_time": "2020-12-17T01:35:08.695274Z",
     "start_time": "2020-12-17T01:35:08.689903Z"
    }
   },
   "outputs": [],
   "source": [
    "def game_start():\n",
    "    print('[알림] 새로운 게임을 시작합니다')\n",
    "\n",
    "def game_over():\n",
    "    print('Player : gg')\n",
    "    print('[player] 님이 게임에서 퇴장하셨습니다.')"
   ]
  },
  {
   "cell_type": "code",
   "execution_count": 42,
   "metadata": {
    "ExecuteTime": {
     "end_time": "2020-12-17T05:27:49.437203Z",
     "start_time": "2020-12-17T05:27:49.424812Z"
    }
   },
   "outputs": [
    {
     "name": "stdout",
     "output_type": "stream",
     "text": [
      "[알림] 새로운 게임을 시작합니다\n",
      "마린 유닛이 생성되었습니다.\n",
      "마린 유닛이 생성되었습니다.\n",
      "마린 유닛이 생성되었습니다.\n",
      "탱크 유닛이 생성되었습니다.\n",
      "탱크 유닛이 생성되었습니다.\n",
      "레이스 유닛이 생성되었습니다.\n",
      "마린 : 1시 방향으로 이동합니다. [속도 1]\n",
      "마린 : 1시 방향으로 이동합니다. [속도 1]\n",
      "마린 : 1시 방향으로 이동합니다. [속도 1]\n",
      "탱크 : 1시 방향으로 이동합니다. [속도 1]\n",
      "탱크 : 1시 방향으로 이동합니다. [속도 1]\n",
      "레이스 : 1시 방향으로 날아갑니다. [속도 5]\n",
      "[알림] 탱크 시즈 모드 개발이 완료되었습니다.\n",
      "마린 : 스팀팩을 사용합니다 (HP 10 감소)\n",
      "마린 : 스팀팩을 사용합니다 (HP 10 감소)\n",
      "마린 : 스팀팩을 사용합니다 (HP 10 감소)\n",
      "탱크 : 시즈모드로 전환합니다.\n",
      "탱크 : 시즈모드로 전환합니다.\n",
      "레이스 : 클로킹 모드로 전환합니다.\n",
      "마린 : 1시 방향으로 적군을 공격합니다. [공격력 5]        \n",
      "마린 : 1시 방향으로 적군을 공격합니다. [공격력 5]        \n",
      "마린 : 1시 방향으로 적군을 공격합니다. [공격력 5]        \n",
      "탱크 : 1시 방향으로 적군을 공격합니다. [공격력 70]        \n",
      "탱크 : 1시 방향으로 적군을 공격합니다. [공격력 70]        \n",
      "레이스 : 1시 방향으로 적군을 공격합니다. [공격력 20]        \n",
      "마린 : 11 데미지를 입었습니다.\n",
      "마린 : 현재 체력은 19 입니다.\n",
      "마린 : 17 데미지를 입었습니다.\n",
      "마린 : 현재 체력은 13 입니다.\n",
      "마린 : 17 데미지를 입었습니다.\n",
      "마린 : 현재 체력은 13 입니다.\n",
      "탱크 : 16 데미지를 입었습니다.\n",
      "탱크 : 현재 체력은 134 입니다.\n",
      "탱크 : 13 데미지를 입었습니다.\n",
      "탱크 : 현재 체력은 137 입니다.\n",
      "레이스 : 20 데미지를 입었습니다.\n",
      "레이스 : 현재 체력은 60 입니다.\n",
      "Player : gg\n",
      "[player] 님이 게임에서 퇴장하셨습니다.\n"
     ]
    }
   ],
   "source": [
    "game_start()\n",
    "\n",
    "# 마린 3기 생성\n",
    "m1 = Marine()\n",
    "m2 = Marine()\n",
    "m3 = Marine()\n",
    "# 탱크 2기 생성\n",
    "t1 = Tank()\n",
    "t2 = Tank()\n",
    "\n",
    "#레이스 1기 생성\n",
    "w1 = Wraith()\n",
    "\n",
    "#유닛 일괄 관리\n",
    "attack_units = []\n",
    "attack_units.append(m1)\n",
    "attack_units.append(m2)\n",
    "attack_units.append(m3)\n",
    "attack_units.append(t1)\n",
    "attack_units.append(t2)\n",
    "attack_units.append(w1)\n",
    "\n",
    "# 전군 이동\n",
    "for unit in attack_units:\n",
    "    unit.move(\"1시\")\n",
    "\n",
    "# 탱크 시즈모드 개발\n",
    "Tank.seize_developed = True\n",
    "print('[알림] 탱크 시즈 모드 개발이 완료되었습니다.')\n",
    "# 공격 모드 준비 (마린 : 스팀팩, 탱크 : 시즈모드, 레이스 :클로킹)\n",
    "\n",
    "for unit in attack_units:\n",
    "    if isinstance(unit, Marine):\n",
    "        unit.stimpack()\n",
    "    elif isinstance(unit, Tank):\n",
    "        unit.set_seize_mode()\n",
    "    elif isinstance(unit, Wraith):\n",
    "        unit.clocking()\n",
    "\n",
    "# 전군 공격\n",
    "for unit in attack_units:\n",
    "    unit.attack('1시')\n",
    "\n",
    "# 전군 피해\n",
    "for unit in attack_units:\n",
    "    unit.damaged(randint(5, 20)) #공격은 랜덤으로 받음 (5~20)\n",
    "    \n",
    "game_over()"
   ]
  }
 ],
 "metadata": {
  "kernelspec": {
   "display_name": "Python 3",
   "language": "python",
   "name": "python3"
  },
  "language_info": {
   "codemirror_mode": {
    "name": "ipython",
    "version": 3
   },
   "file_extension": ".py",
   "mimetype": "text/x-python",
   "name": "python",
   "nbconvert_exporter": "python",
   "pygments_lexer": "ipython3",
   "version": "3.7.6"
  }
 },
 "nbformat": 4,
 "nbformat_minor": 4
}
