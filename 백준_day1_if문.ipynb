{
 "cells": [
  {
   "cell_type": "code",
   "execution_count": 75,
   "metadata": {},
   "outputs": [
    {
     "name": "stdin",
     "output_type": "stream",
     "text": [
      " 10 10\n"
     ]
    },
    {
     "name": "stdout",
     "output_type": "stream",
     "text": [
      "==\n"
     ]
    }
   ],
   "source": [
    "#백준 1330 두 수 비교하기\n",
    "A,B = map(int, input().split())\n",
    "\n",
    "if A>B:\n",
    "    print(\">\")\n",
    "elif A<B:\n",
    "    print(\"<\")\n",
    "elif A==B:\n",
    "    print(\"==\")"
   ]
  },
  {
   "cell_type": "code",
   "execution_count": 20,
   "metadata": {},
   "outputs": [
    {
     "name": "stdin",
     "output_type": "stream",
     "text": [
      " 90\n"
     ]
    },
    {
     "name": "stdout",
     "output_type": "stream",
     "text": [
      "A\n"
     ]
    }
   ],
   "source": [
    "#백준 9498 시험 성적\n",
    "score = int(input())\n",
    "\n",
    "if 90<=score<=100:\n",
    "    print(\"A\")\n",
    "elif 80<=score<=89:\n",
    "    print(\"B\")\n",
    "elif 70<=score<=79:\n",
    "    print(\"C\")\n",
    "elif 60<=score<=69:\n",
    "    print(\"D\")\n",
    "else:\n",
    "    print(\"F\")"
   ]
  },
  {
   "cell_type": "code",
   "execution_count": 30,
   "metadata": {},
   "outputs": [
    {
     "name": "stdin",
     "output_type": "stream",
     "text": [
      " 2001\n"
     ]
    },
    {
     "name": "stdout",
     "output_type": "stream",
     "text": [
      "0\n"
     ]
    }
   ],
   "source": [
    "#백준 2753 윤년\n",
    "year = int(input())\n",
    "\n",
    "if((year%4==0) and (year%100!=1일차.ipynb or year%400==0)):\n",
    "    print(\"1\")\n",
    "else:\n",
    "    print(\"0\")"
   ]
  },
  {
   "cell_type": "code",
   "execution_count": 33,
   "metadata": {},
   "outputs": [
    {
     "name": "stdin",
     "output_type": "stream",
     "text": [
      " 10\n",
      " 5\n"
     ]
    },
    {
     "name": "stdout",
     "output_type": "stream",
     "text": [
      "1\n"
     ]
    }
   ],
   "source": [
    "#백준 14681 사분면 고르기\n",
    "x = int(input())\n",
    "y = int(input())\n",
    "\n",
    "if ((x>0) and (y>0)):\n",
    "    print(\"1\")\n",
    "elif ((x<0) and (y>0)):\n",
    "    print(\"2\")\n",
    "elif((x<0) and (y<0)):\n",
    "    print(\"3\")\n",
    "elif((x>0) and (y<0)):\n",
    "    print(\"4\")"
   ]
  },
  {
   "cell_type": "code",
   "execution_count": 72,
   "metadata": {},
   "outputs": [
    {
     "name": "stdin",
     "output_type": "stream",
     "text": [
      " 10 44\n"
     ]
    },
    {
     "name": "stdout",
     "output_type": "stream",
     "text": [
      "9 59\n"
     ]
    }
   ],
   "source": [
    "#백준 2884 알람시계\n",
    "H, M = map(int, input().split())\n",
    "if ((0<=H<=23)and(0<=M<=59)):\n",
    "    if (M>=45):\n",
    "        M = M-45\n",
    "    elif (H==0):\n",
    "        H = H+23\n",
    "        M = (M+60)-45\n",
    "    elif (M<=44):\n",
    "        H = H-1\n",
    "        M = (M+60)-45\n",
    "\n",
    "print(\"{} {}\".format(H, M))"
   ]
  }
 ],
 "metadata": {
  "kernelspec": {
   "display_name": "Python 3",
   "language": "python",
   "name": "python3"
  },
  "language_info": {
   "codemirror_mode": {
    "name": "ipython",
    "version": 3
   },
   "file_extension": ".py",
   "mimetype": "text/x-python",
   "name": "python",
   "nbconvert_exporter": "python",
   "pygments_lexer": "ipython3",
   "version": "3.8.3"
  }
 },
 "nbformat": 4,
 "nbformat_minor": 4
}
