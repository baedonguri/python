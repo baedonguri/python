{
 "cells": [
  {
   "cell_type": "code",
   "execution_count": null,
   "metadata": {},
   "outputs": [],
   "source": [
    "#백준 10952 A+B -5 [0 0이 들어올 때까지 A+B를 출력하는 문제]\n",
    "\n",
    "while True:\n",
    "    A, B = map(int, input().split())\n",
    "    if A==0 and B==0: #A와B의 입력이 0,0이면 종료\n",
    "        break\n",
    "    print(A+B)"
   ]
  },
  {
   "cell_type": "code",
   "execution_count": null,
   "metadata": {},
   "outputs": [],
   "source": [
    "#백준 10951 A+B -4 [입력이 끝날 때까지 A+B를 출력하는 문제. EOF에 대해 알아보기]\n",
    "while True:\n",
    "    try:\n",
    "        A, B = map(int, input().split())\n",
    "        print(A+B)\n",
    "    except:\n",
    "        break"
   ]
  },
  {
   "cell_type": "code",
   "execution_count": null,
   "metadata": {},
   "outputs": [],
   "source": [
    "#백준 1110 더하기 사이클 [원래 수로 돌아올 때까지 연산을 반복하는 문제]\n",
    "\n",
    "N = int(input())\n",
    "check = N\n",
    "temp = 0\n",
    "new_N = 0\n",
    "count = 0\n",
    "\n",
    "while True:\n",
    "    temp = N//10 + N%10 # //으로 몫을 구하고 %를 나머지를 구한뒤 몫과 나머지를 더함\n",
    "    new_N = (N%10)*10 + temp%10 #새로운 숫자 조합하기\n",
    "    count += 1 #카운트\n",
    "    N = new_N #사이클을 돌기 위해 N에 새롭게 조합된 숫자를 입력\n",
    "    if N == check: #사이클을 돌던 중 조합된 숫자가 처음입력 N과 일치하면 break\n",
    "        break\n",
    "print(count) #카운트 횟수 출력"
   ]
  }
 ],
 "metadata": {
  "kernelspec": {
   "display_name": "Python 3",
   "language": "python",
   "name": "python3"
  },
  "language_info": {
   "codemirror_mode": {
    "name": "ipython",
    "version": 3
   },
   "file_extension": ".py",
   "mimetype": "text/x-python",
   "name": "python",
   "nbconvert_exporter": "python",
   "pygments_lexer": "ipython3",
   "version": "3.7.6"
  }
 },
 "nbformat": 4,
 "nbformat_minor": 4
}
